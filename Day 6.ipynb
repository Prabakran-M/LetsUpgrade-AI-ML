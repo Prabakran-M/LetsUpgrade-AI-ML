{
 "cells": [
  {
   "cell_type": "code",
   "execution_count": null,
   "metadata": {},
   "outputs": [],
   "source": [
    "# to print the company name of a given email address.\n",
    "\n",
    "a = input(\"Email id : \")\n",
    "\n",
    "c = a.split('@')[1]\n",
    "x = c.split('.')[0]\n",
    "\n",
    "print(x)\n"
   ]
  },
  {
   "cell_type": "code",
   "execution_count": null,
   "metadata": {},
   "outputs": [],
   "source": [
    "# to accept comma-separated seq of words and sort them alphabetically.\n",
    "\n",
    "x = input().split(',')\n",
    "l = list(x)\n",
    "l1 = len(l)\n",
    "\n",
    "y = sorted(l)\n",
    "l = y\n",
    "\n",
    "for i in range (l1):\n",
    "    if i == l1-1:\n",
    "        print(l[i],end=\"\",)\n",
    "    else:\n",
    "        print(l[i],end=\",\")"
   ]
  },
  {
   "cell_type": "code",
   "execution_count": null,
   "metadata": {},
   "outputs": [],
   "source": [
    "#  own Jupyter Notebook for Sets.\n",
    "Reference link: https://www.w3schools.com/python/python_sets.asp"
   ]
  },
  {
   "cell_type": "code",
   "execution_count": null,
   "metadata": {},
   "outputs": [],
   "source": [
    "# a list of n-1 numbers ranging from 1 to n, your task is to find the missing number.\n",
    "\n",
    "\n",
    "def fm(A): \n",
    "    n = len(A) \n",
    "    total = (n + 1)*(n + 2)/2\n",
    "    s_A = sum(A) \n",
    "    return total - s_A \n",
    " \n",
    "A = [1, 2, 4, 5, 6] \n",
    "m = fm(A) \n",
    "print(m) \n",
    "\n",
    "\n"
   ]
  },
  {
   "cell_type": "code",
   "execution_count": 3,
   "metadata": {},
   "outputs": [
    {
     "data": {
      "text/plain": [
       "{1, 3, 5}"
      ]
     },
     "execution_count": 3,
     "metadata": {},
     "output_type": "execute_result"
    }
   ],
   "source": [
    "# to print the removing all duplicate values\n",
    "\n",
    "a = [7, 3, 4, 5, 5, 6, 2,1,1,1,1,3,34]\n",
    "set([x for x in a if a.count(x) > 1])\n",
    "\n",
    " \n",
    "\n"
   ]
  }
 ],
 "metadata": {
  "kernelspec": {
   "display_name": "Python 3",
   "language": "python",
   "name": "python3"
  }
 },
 "nbformat": 4,
 "nbformat_minor": 4
}
