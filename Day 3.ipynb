{
 "cells": [
  {
   "cell_type": "code",
   "execution_count": 1,
   "metadata": {},
   "outputs": [
    {
     "name": "stdout",
     "output_type": "stream",
     "text": [
      "1j\n"
     ]
    }
   ],
   "source": [
    "#subtract two complex numbers\n",
    "a = 4j\n",
    "b = 3j\n",
    "c = a - b\n",
    "print(c)"
   ]
  },
  {
   "cell_type": "code",
   "execution_count": 1,
   "metadata": {},
   "outputs": [
    {
     "name": "stdout",
     "output_type": "stream",
     "text": [
      "16\n"
     ]
    }
   ],
   "source": [
    "#fourth root of a number\n",
    "a = 2**4\n",
    "print(a)\n"
   ]
  },
  {
   "cell_type": "code",
   "execution_count": 6,
   "metadata": {},
   "outputs": [
    {
     "name": "stdout",
     "output_type": "stream",
     "text": [
      "5 5\n",
      "4 3\n"
     ]
    }
   ],
   "source": [
    "#swap two numbers in Python with the help of a temporary variable.\n",
    "a = 5\n",
    "b = 7\n",
    "\n",
    "b = a\n",
    "\n",
    "print(a,b)"
   ]
  },
  {
   "cell_type": "code",
   "execution_count": 7,
   "metadata": {},
   "outputs": [
    {
     "name": "stdout",
     "output_type": "stream",
     "text": [
      "4 3\n"
     ]
    }
   ],
   "source": [
    "#swap two numbers in Python without using a temporary variable.\n",
    "a = 3\n",
    "b = 4\n",
    "\n",
    "temp = a\n",
    "a = b\n",
    "b = temp\n",
    "\n",
    "print(a,b)"
   ]
  },
  {
   "cell_type": "code",
   "execution_count": 19,
   "metadata": {},
   "outputs": [
    {
     "name": "stdout",
     "output_type": "stream",
     "text": [
      "32\n",
      "0.0\n",
      "273.15\n"
     ]
    }
   ],
   "source": [
    "#fahrenheit to kelvin and celsius both\n",
    "\n",
    "a = 32  # a = fahrenheit\n",
    "b = ((a - 32) / 1.8000) # b = celsius\n",
    "c = ((a - 32) / 1.8000) + 273.15 #c = kelvin\n",
    "\n",
    "print(a)\n",
    "print(b)\n",
    "print(c)"
   ]
  },
  {
   "cell_type": "code",
   "execution_count": 11,
   "metadata": {},
   "outputs": [
    {
     "name": "stdout",
     "output_type": "stream",
     "text": [
      "<class 'int'>\n",
      "<class 'float'>\n",
      "<class 'complex'>\n",
      "<class 'str'>\n"
     ]
    }
   ],
   "source": [
    "#demonstrate all the available data types in Python\n",
    "print(type(1))\n",
    "print(type(1.0))\n",
    "print(type(34j))\n",
    "print(type(\"Hello\"))"
   ]
  },
  {
   "cell_type": "code",
   "execution_count": 12,
   "metadata": {},
   "outputs": [
    {
     "ename": "SyntaxError",
     "evalue": "invalid syntax (<ipython-input-12-16540fd266a3>, line 3)",
     "output_type": "error",
     "traceback": [
      "\u001b[0;36m  File \u001b[0;32m\"<ipython-input-12-16540fd266a3>\"\u001b[0;36m, line \u001b[0;32m3\u001b[0m\n\u001b[0;31m    *Go to www.github.com\u001b[0m\n\u001b[0m         ^\u001b[0m\n\u001b[0;31mSyntaxError\u001b[0m\u001b[0;31m:\u001b[0m invalid syntax\n"
     ]
    }
   ],
   "source": [
    "#list the steps discussed in the session by Dr. Darshan Ingle to create Github profile and upload Githubs Assignment link.\n",
    "##To create Github profile\n",
    "*Go to www.github.com\n",
    "*Click signup on the top right corner.\n",
    "*Enter you details and create the account.\n",
    "*Now create a new Repositories in the name LetsUpgrade AI/ML.\n",
    "\n",
    "\n",
    "##To upload the assignment \n",
    "*Open the google form.\n",
    "*Fill in the details with the registered email id.\n",
    "*Add the github link and submit.\n",
    "\n"
   ]
  }
 ],
 "metadata": {
  "kernelspec": {
   "display_name": "Python 3",
   "language": "python",
   "name": "python3"
  },
  "language_info": {
   "codemirror_mode": {
    "name": "ipython",
    "version": 3
   },
   "file_extension": ".py",
   "mimetype": "text/x-python",
   "name": "python",
   "nbconvert_exporter": "python",
   "pygments_lexer": "ipython3",
   "version": "3.7.6"
  }
 },
 "nbformat": 4,
 "nbformat_minor": 4
}
